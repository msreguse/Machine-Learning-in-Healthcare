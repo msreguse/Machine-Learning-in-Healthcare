{
 "cells": [
  {
   "cell_type": "code",
   "execution_count": 10,
   "metadata": {},
   "outputs": [],
   "source": [
    "# Import all the required packages\n",
    "import pandas as pd\n",
    "import numpy as np\n",
    "import matplotlib.pyplot as plt\n",
    "import seaborn as sns\n",
    "from sklearn.model_selection import train_test_split\n",
    "from sklearn.metrics import r2_score, mean_squared_error, mean_absolute_error\n",
    "from sklearn.preprocessing import MinMaxScaler\n",
    "from sklearn.neighbors import KNeighborsRegressor\n",
    "from sklearn.linear_model import LinearRegression\n",
    "from sklearn.svm import SVR\n",
    "from sklearn.ensemble import RandomForestRegressor\n",
    "from sklearn.tree import DecisionTreeRegressor\n",
    "from scipy.stats import pearsonr\n",
    "from sklearn.ensemble import GradientBoostingRegressor\n",
    "from sklearn.linear_model import SGDRegressor\n",
    "import statsmodels.api as sm\n",
    "from sklearn.model_selection import GridSearchCV\n",
    "import seaborn as sns"
   ]
  },
  {
   "cell_type": "code",
   "execution_count": 2,
   "metadata": {},
   "outputs": [],
   "source": [
    "# Reading the data\n",
    "df = pd.read_csv('data.csv')"
   ]
  },
  {
   "cell_type": "code",
   "execution_count": 3,
   "metadata": {},
   "outputs": [],
   "source": [
    "# Separate target and features variable\n",
    "'''\n",
    "LOS is the target variable\n",
    "features contains independent variables\n",
    "'''\n",
    "LOS = df['LOS'].values\n",
    "features = df.drop(columns=['LOS'])"
   ]
  },
  {
   "cell_type": "code",
   "execution_count": 4,
   "metadata": {},
   "outputs": [
    {
     "data": {
      "text/plain": [
       "0"
      ]
     },
     "execution_count": 4,
     "metadata": {},
     "output_type": "execute_result"
    }
   ],
   "source": [
    "# Check for any NaNs\n",
    "'''\n",
    "Run this code to keep rows having required percentage of non-NA column values\n",
    "\n",
    "ratio_nonNA = 0.5\n",
    "df.dropna(thresh=np.int(ratio_nonNA*(len(df.columns)/100),inplace=True)\n",
    "\n",
    "The above code only keeps rows having atleast 50% non-NA values for columns\n",
    "'''\n",
    "df.isnull().values.sum()"
   ]
  },
  {
   "cell_type": "code",
   "execution_count": 7,
   "metadata": {},
   "outputs": [
    {
     "name": "stdout",
     "output_type": "stream",
     "text": [
      "Training set has 40829 samples.\n",
      "Testing set has 10208 samples.\n"
     ]
    }
   ],
   "source": [
    "# Split data into training and testing dataset\n",
    "'''\n",
    "test_size = 0.2\n",
    "This means that the test data is 20% of entire dataset\n",
    "'''\n",
    "x_train, x_test, y_train, y_test = train_test_split(features, \n",
    "                                                    LOS, \n",
    "                                                    test_size = .20, \n",
    "                                                    random_state = 0)\n",
    "\n",
    "# Show the results of the split\n",
    "print(\"Training set has {} samples.\".format(x_train.shape[0]))\n",
    "print(\"Testing set has {} samples.\".format(x_test.shape[0]))"
   ]
  },
  {
   "cell_type": "code",
   "execution_count": 15,
   "metadata": {},
   "outputs": [
    {
     "name": "stdout",
     "output_type": "stream",
     "text": [
      "SGDRegressor done.\n",
      "GradientBoostingRegressor done.\n",
      "LinearRegression done.\n",
      "KNeighborsRegressor done.\n"
     ]
    },
    {
     "name": "stderr",
     "output_type": "stream",
     "text": [
      "C:\\Users\\Satya\\Anaconda3\\lib\\site-packages\\sklearn\\ensemble\\forest.py:245: FutureWarning: The default value of n_estimators will change from 10 in version 0.20 to 100 in 0.22.\n",
      "  \"10 in version 0.20 to 100 in 0.22.\", FutureWarning)\n"
     ]
    },
    {
     "name": "stdout",
     "output_type": "stream",
     "text": [
      "RandomForestRegressor done.\n"
     ]
    },
    {
     "name": "stderr",
     "output_type": "stream",
     "text": [
      "C:\\Users\\Satya\\Anaconda3\\lib\\site-packages\\sklearn\\svm\\base.py:193: FutureWarning: The default value of gamma will change from 'auto' to 'scale' in version 0.22 to account better for unscaled features. Set gamma explicitly to 'auto' or 'scale' to avoid this warning.\n",
      "  \"avoid this warning.\", FutureWarning)\n"
     ]
    },
    {
     "name": "stdout",
     "output_type": "stream",
     "text": [
      "SVR done.\n"
     ]
    }
   ],
   "source": [
    "# Regression models for comparison\n",
    "models = [SGDRegressor(random_state = 0), \n",
    "          GradientBoostingRegressor(random_state = 0), \n",
    "          LinearRegression(),\n",
    "          KNeighborsRegressor(),\n",
    "          RandomForestRegressor(random_state = 0),\n",
    "          SVR()]\n",
    "\n",
    "results = {}\n",
    "\n",
    "for model in models:\n",
    "    \n",
    "    # Instantiate and fit Regressor Model\n",
    "    reg_model = model\n",
    "    reg_model.fit(x_train, y_train)\n",
    "    \n",
    "    # Make predictions with model\n",
    "    y_test_preds = reg_model.predict(x_test)\n",
    "    \n",
    "    # Grab model name and store results associated with model\n",
    "    name = str(model).split(\"(\")[0]\n",
    "\n",
    "    results[name] = mean_absolute_error(y_test, y_test_preds)\n",
    "    print('{} done.'.format(name))"
   ]
  },
  {
   "cell_type": "code",
   "execution_count": 16,
   "metadata": {},
   "outputs": [
    {
     "name": "stdout",
     "output_type": "stream",
     "text": [
      "Mean Absolute Error\n",
      "SGDRegressor : 6.446881916451007\n",
      "GradientBoostingRegressor : 5.586956402182458\n",
      "LinearRegression : 6.0925052200365215\n",
      "KNeighborsRegressor : 5.773035037878787\n",
      "RandomForestRegressor : 5.996266796964939\n",
      "SVR : 5.25068122188395\n"
     ]
    }
   ],
   "source": [
    "print('Mean Absolute Error')\n",
    "for i in results.keys():\n",
    "    print('{} : {}'.format(i,results[i]))"
   ]
  },
  {
   "cell_type": "code",
   "execution_count": 49,
   "metadata": {},
   "outputs": [
    {
     "data": {
      "image/png": "[encoded data removed]",
      "text/plain": [
       "<Figure size 1080x432 with 1 Axes>"
      ]
     },
     "metadata": {
      "needs_background": "light"
     },
     "output_type": "display_data"
    }
   ],
   "source": [
    "# Plot barplot for MAE\n",
    "'''\n",
    "This plot will show which model has least MAE\n",
    "We get the least MAE with SVM Regression\n",
    "'''\n",
    "ind = range(len(results))\n",
    "min_mae = min(results.values())\n",
    "\n",
    "fig = plt.figure(figsize=(15,6))\n",
    "ax = fig.subplots()\n",
    "ax.bar(ind, list(results.values()), align='center', \n",
    "        color = 'lightblue', alpha=0.8)\n",
    "plt.xticks(ind, results.keys())\n",
    "ax.axhline(y=min_mae, xmin=0, xmax=100, ls='-', color='red')\n",
    "\n",
    "\n",
    "plt.show()"
   ]
  },
  {
   "cell_type": "code",
   "execution_count": 51,
   "metadata": {},
   "outputs": [
    {
     "ename": "ModuleNotFoundError",
     "evalue": "No module named 'keras'",
     "output_type": "error",
     "traceback": [
      "\u001b[1;31m---------------------------------------------------------------------------\u001b[0m",
      "\u001b[1;31mModuleNotFoundError\u001b[0m                       Traceback (most recent call last)",
      "\u001b[1;32m<ipython-input-51-4df790c7bc60>\u001b[0m in \u001b[0;36m<module>\u001b[1;34m\u001b[0m\n\u001b[1;32m----> 1\u001b[1;33m \u001b[1;32mfrom\u001b[0m \u001b[0mkeras\u001b[0m \u001b[1;32mimport\u001b[0m \u001b[0mmodels\u001b[0m\u001b[1;33m\u001b[0m\u001b[1;33m\u001b[0m\u001b[0m\n\u001b[0m",
      "\u001b[1;31mModuleNotFoundError\u001b[0m: No module named 'keras'"
     ]
    }
   ],
   "source": [
    "from keras import models"
   ]
  },
  {
   "cell_type": "code",
   "execution_count": null,
   "metadata": {},
   "outputs": [],
   "source": []
  }
 ],
 "metadata": {
  "kernelspec": {
   "display_name": "Python 3",
   "language": "python",
   "name": "python3"
  },
  "language_info": {
   "codemirror_mode": {
    "name": "ipython",
    "version": 3
   },
   "file_extension": ".py",
   "mimetype": "text/x-python",
   "name": "python",
   "nbconvert_exporter": "python",
   "pygments_lexer": "ipython3",
   "version": "3.7.3"
  }
 },
 "nbformat": 4,
 "nbformat_minor": 2
}
